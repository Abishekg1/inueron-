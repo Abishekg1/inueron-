{
 "cells": [
  {
   "cell_type": "markdown",
   "id": "160cf5d4",
   "metadata": {},
   "source": [
    "1.1 Write a Python Program to implement your own myreduce() function which works exactly like Python's built-in function reduce()"
   ]
  },
  {
   "cell_type": "code",
   "execution_count": 1,
   "id": "afa26819",
   "metadata": {},
   "outputs": [
    {
     "name": "stdout",
     "output_type": "stream",
     "text": [
      "average= 33.142857142857146\n"
     ]
    }
   ],
   "source": [
    "def myreduce(average,list):\n",
    "    return a\n",
    "def average(list):\n",
    "    a=0\n",
    "    for i in list:\n",
    "        b=a+int(i)\n",
    "        a=b\n",
    "\n",
    "    d=b/len(list)\n",
    "    return d\n",
    "list=[10,23,54,44,22,33,46]\n",
    "for i in range(1,len(list)):\n",
    "    a=average(list)\n",
    "print(\"average=\",myreduce(average,list))"
   ]
  },
  {
   "cell_type": "markdown",
   "id": "dcdc0275",
   "metadata": {},
   "source": [
    "1.2 Write a Python program to implement your own myfilter() function which works exactly like Python's built-in function filter()"
   ]
  },
  {
   "cell_type": "code",
   "execution_count": 2,
   "id": "7f587a9a",
   "metadata": {},
   "outputs": [
    {
     "name": "stdout",
     "output_type": "stream",
     "text": [
      "[2, 4, 6, 8, 44, 66, 44, 22]\n"
     ]
    }
   ],
   "source": [
    "def myfilter(even,list):\n",
    "    return a\n",
    "\n",
    "def even(list):\n",
    "    a=[]\n",
    "    for i in list:\n",
    "        if i%2==0:\n",
    "            a.append(i)\n",
    "    return a\n",
    "list=[1,2,3,4,5,6,8,21,43,33,11,13,44,66,33,44,22]\n",
    "for i in range(1,len(list)):\n",
    "    a=even(list)\n",
    "print(myfilter(even,list))"
   ]
  },
  {
   "cell_type": "markdown",
   "id": "58567063",
   "metadata": {},
   "source": [
    "2.) Implement List comprehensions to produce the following lists. Write List comprehensions to produce the following Lists ['x', 'xx', 'xxx', 'xxxx', 'y', 'yy', 'yyy', 'yyyy', 'z', 'zz', 'zzz', 'zzzz'] ['x', 'y', 'z', 'xx', 'yy', 'zz', 'xxx', 'yyy', 'zzz', 'xxxx', 'yyyy', 'zzzz'] [[2], [3], [4], [3], [4], [5], [4], [5], [6]] [[2, 3, 4, 5], [3, 4, 5, 6],[4, 5, 6, 7], [5, 6, 7, 8]] [(1, 1), (2, 1), (3, 1), (1, 2), (2, 2), (3, 2), (1, 3), (2, 3), (3, 3)]"
   ]
  },
  {
   "cell_type": "code",
   "execution_count": 4,
   "id": "455e7ee3",
   "metadata": {},
   "outputs": [
    {
     "name": "stdout",
     "output_type": "stream",
     "text": [
      "['x', 'xx', 'xxx', 'xxxx', 'y', 'yy', 'yyy', 'yyyy', 'z', 'zz', 'zzz', 'zzzz']\n"
     ]
    }
   ],
   "source": [
    "b=[]\n",
    "a=['x','y','z']\n",
    "for i in a:\n",
    "    b.append(i)\n",
    "    b.append(i*2)\n",
    "    b.append(i*3)\n",
    "    b.append(i*4)\n",
    "one=print(b)"
   ]
  },
  {
   "cell_type": "code",
   "execution_count": 5,
   "id": "79a1e123",
   "metadata": {},
   "outputs": [
    {
     "name": "stdout",
     "output_type": "stream",
     "text": [
      "['x', 'y', 'z', 'xx', 'yy', 'zz', 'xxx', 'yyy', 'zzz', 'xxxx', 'yyyy', 'zzzz']\n"
     ]
    }
   ],
   "source": [
    "b=[]\n",
    "a=['x','y','z']\n",
    "for i in a:\n",
    "    b.append(i)\n",
    "for i in a:\n",
    "    b.append(i*2)\n",
    "for i in a:\n",
    "    b.append(i*3)\n",
    "for i in a:\n",
    "    b.append(i*4)\n",
    "two=print(b)"
   ]
  },
  {
   "cell_type": "code",
   "execution_count": 6,
   "id": "535fa386",
   "metadata": {},
   "outputs": [
    {
     "name": "stdout",
     "output_type": "stream",
     "text": [
      "[[2], [3], [4], [3], [4], [5], [4], [5], [6]]\n"
     ]
    }
   ],
   "source": [
    "b=[]\n",
    "a=[[2],[3],[4],[5],[6]]\n",
    "for i in range(3):\n",
    "    b.append(a[i])\n",
    "    b.append(a[i+1])\n",
    "    b.append(a[i+2])\n",
    "print(b)"
   ]
  },
  {
   "cell_type": "code",
   "execution_count": 7,
   "id": "4f76ecf9",
   "metadata": {},
   "outputs": [
    {
     "data": {
      "text/plain": [
       "[[2, 3, 4, 5], [3, 4, 5, 6], [4, 5, 6, 7], [5, 6, 7, 8]]"
      ]
     },
     "execution_count": 7,
     "metadata": {},
     "output_type": "execute_result"
    }
   ],
   "source": [
    "b=[]\n",
    "d=[]\n",
    "e=[]\n",
    "f=[]\n",
    "c=[]\n",
    "a=[2,3,4,5,6,7,8]\n",
    "for i in range(4):\n",
    "        b.append(a[i])\n",
    "        i=i+1\n",
    "        d.append(a[i])\n",
    "        i=i+1\n",
    "        e.append(a[i])\n",
    "        i=i+1\n",
    "        f.append(a[i])\n",
    "c.append(b)\n",
    "c.append(d)\n",
    "c.append(e)\n",
    "c.append(f)\n",
    "c"
   ]
  },
  {
   "cell_type": "code",
   "execution_count": 8,
   "id": "c58562ef",
   "metadata": {},
   "outputs": [
    {
     "data": {
      "text/plain": [
       "[(1, 1), (2, 1), (3, 1), (1, 2), (2, 2), (3, 2), (1, 3), (2, 3), (3, 3)]"
      ]
     },
     "execution_count": 8,
     "metadata": {},
     "output_type": "execute_result"
    }
   ],
   "source": [
    "a=[1,2,3]\n",
    "b=[]\n",
    "for i in range(3):\n",
    "    f=(a[i],a[0])\n",
    "    b.append(f)\n",
    "for i in range(3):\n",
    "    g=(a[i],a[1])\n",
    "    b.append(g)\n",
    "for i in range(3):\n",
    "    h=(a[i],a[2])\n",
    "    b.append(h)\n",
    "b"
   ]
  },
  {
   "cell_type": "code",
   "execution_count": null,
   "id": "cb8fe8b5",
   "metadata": {},
   "outputs": [],
   "source": []
  }
 ],
 "metadata": {
  "kernelspec": {
   "display_name": "Python 3",
   "language": "python",
   "name": "python3"
  },
  "language_info": {
   "codemirror_mode": {
    "name": "ipython",
    "version": 3
   },
   "file_extension": ".py",
   "mimetype": "text/x-python",
   "name": "python",
   "nbconvert_exporter": "python",
   "pygments_lexer": "ipython3",
   "version": "3.8.8"
  }
 },
 "nbformat": 4,
 "nbformat_minor": 5
}
