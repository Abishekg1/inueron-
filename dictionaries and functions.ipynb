{
 "cells": [
  {
   "cell_type": "markdown",
   "id": "fce07922",
   "metadata": {},
   "source": [
    "1.1 Write a Python Program(with class concepts) to find the area of the triangle using the below formula. area = (s(s-a)(s-b)(s-c)) * 0.5 Function to take the length of the sides of triangle from user should be defined in the parent class and function to calculate the area should be defined in subclass."
   ]
  },
  {
   "cell_type": "code",
   "execution_count": 1,
   "id": "a6d62117",
   "metadata": {},
   "outputs": [
    {
     "name": "stdout",
     "output_type": "stream",
     "text": [
      "5\n",
      "6\n",
      "7\n",
      "area : 14.696938456699069\n"
     ]
    }
   ],
   "source": [
    "class parent:\n",
    "    def __init__(self , a,b,c ) :\n",
    "        self.a  = int(a)\n",
    "        self.b =int(b) \n",
    "        self.c = int(c)\n",
    "a=int(input())\n",
    "b=int(input())\n",
    "c=int(input())\n",
    "class subclass(parent):\n",
    "    def __init__(self,a,b,c):\n",
    "        super().__init__(a,b,c)\n",
    "    def s1(self):\n",
    "        s = (a + b + c) / 2\n",
    "        return (s*(s-a)*(s-b)*(s-c)) ** 0.5   \n",
    "    \n",
    "r=subclass(a,b,c)\n",
    "print(\"area : {}\".format(r.s1()))"
   ]
  },
  {
   "cell_type": "markdown",
   "id": "26771a71",
   "metadata": {},
   "source": [
    "1.2 Write a function filter_long_words() that takes a list of words and an integer n and returns the list of words that are longer than n."
   ]
  },
  {
   "cell_type": "code",
   "execution_count": 2,
   "id": "20f37406",
   "metadata": {},
   "outputs": [],
   "source": [
    "def filter_long_words(*args,n) :\n",
    "    c=[]\n",
    "    for i in args:\n",
    "        if len(i)>n:\n",
    "            c.append(i)\n",
    "    return c"
   ]
  },
  {
   "cell_type": "code",
   "execution_count": 3,
   "id": "9277bef4",
   "metadata": {},
   "outputs": [
    {
     "data": {
      "text/plain": [
       "['rahulprasad', 'sheemazainab', 'hrithikhemsundar']"
      ]
     },
     "execution_count": 3,
     "metadata": {},
     "output_type": "execute_result"
    }
   ],
   "source": [
    "filter_long_words('abishek','haree','gokul','rahulprasad','sheemazainab','hrithikhemsundar',n=7) "
   ]
  },
  {
   "cell_type": "markdown",
   "id": "b807d665",
   "metadata": {},
   "source": [
    "2.1 Write a Python program using function concept that maps list of words into a list of integers representing the lengths of the corresponding words. Hint: If a list [ ab,cde,erty] is passed on to the python function output should come as [2,3,4] Here 2,3 and 4 are the lengths of the words in the list."
   ]
  },
  {
   "cell_type": "code",
   "execution_count": 4,
   "id": "a6e3a2f5",
   "metadata": {},
   "outputs": [
    {
     "data": {
      "text/plain": [
       "[7, 5, 5]"
      ]
     },
     "execution_count": 4,
     "metadata": {},
     "output_type": "execute_result"
    }
   ],
   "source": [
    "def fun(*args):\n",
    "    c=[]\n",
    "    for i in args:\n",
    "        c.append(len(i))\n",
    "    return c\n",
    "fun('abishek','haree','gokul')"
   ]
  },
  {
   "cell_type": "markdown",
   "id": "0ede6abe",
   "metadata": {},
   "source": [
    "2.2 Write a Python function which takes a character (i.e. a string of length 1) and returns True if it is a vowel, False otherwise."
   ]
  },
  {
   "cell_type": "code",
   "execution_count": 5,
   "id": "eea22d2b",
   "metadata": {},
   "outputs": [],
   "source": [
    "def func(*args):\n",
    "    for i in args:\n",
    "        if i=='a':\n",
    "            return 'true'\n",
    "        if i=='e':\n",
    "            return 'true'\n",
    "        if i=='i':\n",
    "            return 'true'\n",
    "        if i=='o':\n",
    "            return 'true'\n",
    "        if i=='u':\n",
    "            return 'true'\n",
    "        else:\n",
    "            return 'false'"
   ]
  },
  {
   "cell_type": "code",
   "execution_count": 6,
   "id": "42c17f3e",
   "metadata": {},
   "outputs": [
    {
     "data": {
      "text/plain": [
       "'false'"
      ]
     },
     "execution_count": 6,
     "metadata": {},
     "output_type": "execute_result"
    }
   ],
   "source": [
    "func('g')"
   ]
  },
  {
   "cell_type": "code",
   "execution_count": null,
   "id": "d89e35cc",
   "metadata": {},
   "outputs": [],
   "source": []
  }
 ],
 "metadata": {
  "kernelspec": {
   "display_name": "Python 3",
   "language": "python",
   "name": "python3"
  },
  "language_info": {
   "codemirror_mode": {
    "name": "ipython",
    "version": 3
   },
   "file_extension": ".py",
   "mimetype": "text/x-python",
   "name": "python",
   "nbconvert_exporter": "python",
   "pygments_lexer": "ipython3",
   "version": "3.8.8"
  }
 },
 "nbformat": 4,
 "nbformat_minor": 5
}
